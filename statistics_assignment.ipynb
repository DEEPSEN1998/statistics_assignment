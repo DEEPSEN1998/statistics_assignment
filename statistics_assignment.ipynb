{
  "cells": [
    {
      "cell_type": "code",
      "source": [],
      "metadata": {
        "id": "a9-ilC_hZWFY"
      },
      "id": "a9-ilC_hZWFY",
      "execution_count": null,
      "outputs": []
    },
    {
      "cell_type": "markdown",
      "id": "3797c649",
      "metadata": {
        "id": "3797c649"
      },
      "source": [
        "# Statistics Assignment Additional Answers"
      ]
    },
    {
      "cell_type": "markdown",
      "metadata": {
        "id": "1b8c496f"
      },
      "source": [
        "## 1. Explain the different types of data (qualitative and quantitative) and provide examples of each. Discuss nominal, ordinal, interval, and ratio scales."
      ],
      "id": "1b8c496f"
    },
    {
      "cell_type": "code",
      "execution_count": 6,
      "metadata": {
        "id": "e689fe84",
        "colab": {
          "base_uri": "https://localhost:8080/",
          "height": 143
        },
        "outputId": "7129d638-0a37-46e1-e7a9-5289af67dc32"
      },
      "outputs": [
        {
          "output_type": "execute_result",
          "data": {
            "text/plain": [
              "      Name  Rank  Temperature  Salary\n",
              "0    Alice     1         98.6   50000\n",
              "1      Bob     2         99.1   60000\n",
              "2  Charlie     3         97.9   70000"
            ],
            "text/html": [
              "\n",
              "  <div id=\"df-a4237b76-3ed7-4835-b6a3-b1187e18ad69\" class=\"colab-df-container\">\n",
              "    <div>\n",
              "<style scoped>\n",
              "    .dataframe tbody tr th:only-of-type {\n",
              "        vertical-align: middle;\n",
              "    }\n",
              "\n",
              "    .dataframe tbody tr th {\n",
              "        vertical-align: top;\n",
              "    }\n",
              "\n",
              "    .dataframe thead th {\n",
              "        text-align: right;\n",
              "    }\n",
              "</style>\n",
              "<table border=\"1\" class=\"dataframe\">\n",
              "  <thead>\n",
              "    <tr style=\"text-align: right;\">\n",
              "      <th></th>\n",
              "      <th>Name</th>\n",
              "      <th>Rank</th>\n",
              "      <th>Temperature</th>\n",
              "      <th>Salary</th>\n",
              "    </tr>\n",
              "  </thead>\n",
              "  <tbody>\n",
              "    <tr>\n",
              "      <th>0</th>\n",
              "      <td>Alice</td>\n",
              "      <td>1</td>\n",
              "      <td>98.6</td>\n",
              "      <td>50000</td>\n",
              "    </tr>\n",
              "    <tr>\n",
              "      <th>1</th>\n",
              "      <td>Bob</td>\n",
              "      <td>2</td>\n",
              "      <td>99.1</td>\n",
              "      <td>60000</td>\n",
              "    </tr>\n",
              "    <tr>\n",
              "      <th>2</th>\n",
              "      <td>Charlie</td>\n",
              "      <td>3</td>\n",
              "      <td>97.9</td>\n",
              "      <td>70000</td>\n",
              "    </tr>\n",
              "  </tbody>\n",
              "</table>\n",
              "</div>\n",
              "    <div class=\"colab-df-buttons\">\n",
              "\n",
              "  <div class=\"colab-df-container\">\n",
              "    <button class=\"colab-df-convert\" onclick=\"convertToInteractive('df-a4237b76-3ed7-4835-b6a3-b1187e18ad69')\"\n",
              "            title=\"Convert this dataframe to an interactive table.\"\n",
              "            style=\"display:none;\">\n",
              "\n",
              "  <svg xmlns=\"http://www.w3.org/2000/svg\" height=\"24px\" viewBox=\"0 -960 960 960\">\n",
              "    <path d=\"M120-120v-720h720v720H120Zm60-500h600v-160H180v160Zm220 220h160v-160H400v160Zm0 220h160v-160H400v160ZM180-400h160v-160H180v160Zm440 0h160v-160H620v160ZM180-180h160v-160H180v160Zm440 0h160v-160H620v160Z\"/>\n",
              "  </svg>\n",
              "    </button>\n",
              "\n",
              "  <style>\n",
              "    .colab-df-container {\n",
              "      display:flex;\n",
              "      gap: 12px;\n",
              "    }\n",
              "\n",
              "    .colab-df-convert {\n",
              "      background-color: #E8F0FE;\n",
              "      border: none;\n",
              "      border-radius: 50%;\n",
              "      cursor: pointer;\n",
              "      display: none;\n",
              "      fill: #1967D2;\n",
              "      height: 32px;\n",
              "      padding: 0 0 0 0;\n",
              "      width: 32px;\n",
              "    }\n",
              "\n",
              "    .colab-df-convert:hover {\n",
              "      background-color: #E2EBFA;\n",
              "      box-shadow: 0px 1px 2px rgba(60, 64, 67, 0.3), 0px 1px 3px 1px rgba(60, 64, 67, 0.15);\n",
              "      fill: #174EA6;\n",
              "    }\n",
              "\n",
              "    .colab-df-buttons div {\n",
              "      margin-bottom: 4px;\n",
              "    }\n",
              "\n",
              "    [theme=dark] .colab-df-convert {\n",
              "      background-color: #3B4455;\n",
              "      fill: #D2E3FC;\n",
              "    }\n",
              "\n",
              "    [theme=dark] .colab-df-convert:hover {\n",
              "      background-color: #434B5C;\n",
              "      box-shadow: 0px 1px 3px 1px rgba(0, 0, 0, 0.15);\n",
              "      filter: drop-shadow(0px 1px 2px rgba(0, 0, 0, 0.3));\n",
              "      fill: #FFFFFF;\n",
              "    }\n",
              "  </style>\n",
              "\n",
              "    <script>\n",
              "      const buttonEl =\n",
              "        document.querySelector('#df-a4237b76-3ed7-4835-b6a3-b1187e18ad69 button.colab-df-convert');\n",
              "      buttonEl.style.display =\n",
              "        google.colab.kernel.accessAllowed ? 'block' : 'none';\n",
              "\n",
              "      async function convertToInteractive(key) {\n",
              "        const element = document.querySelector('#df-a4237b76-3ed7-4835-b6a3-b1187e18ad69');\n",
              "        const dataTable =\n",
              "          await google.colab.kernel.invokeFunction('convertToInteractive',\n",
              "                                                    [key], {});\n",
              "        if (!dataTable) return;\n",
              "\n",
              "        const docLinkHtml = 'Like what you see? Visit the ' +\n",
              "          '<a target=\"_blank\" href=https://colab.research.google.com/notebooks/data_table.ipynb>data table notebook</a>'\n",
              "          + ' to learn more about interactive tables.';\n",
              "        element.innerHTML = '';\n",
              "        dataTable['output_type'] = 'display_data';\n",
              "        await google.colab.output.renderOutput(dataTable, element);\n",
              "        const docLink = document.createElement('div');\n",
              "        docLink.innerHTML = docLinkHtml;\n",
              "        element.appendChild(docLink);\n",
              "      }\n",
              "    </script>\n",
              "  </div>\n",
              "\n",
              "\n",
              "<div id=\"df-13f53e3c-1e53-4c46-9cd5-f91e797abb2e\">\n",
              "  <button class=\"colab-df-quickchart\" onclick=\"quickchart('df-13f53e3c-1e53-4c46-9cd5-f91e797abb2e')\"\n",
              "            title=\"Suggest charts\"\n",
              "            style=\"display:none;\">\n",
              "\n",
              "<svg xmlns=\"http://www.w3.org/2000/svg\" height=\"24px\"viewBox=\"0 0 24 24\"\n",
              "     width=\"24px\">\n",
              "    <g>\n",
              "        <path d=\"M19 3H5c-1.1 0-2 .9-2 2v14c0 1.1.9 2 2 2h14c1.1 0 2-.9 2-2V5c0-1.1-.9-2-2-2zM9 17H7v-7h2v7zm4 0h-2V7h2v10zm4 0h-2v-4h2v4z\"/>\n",
              "    </g>\n",
              "</svg>\n",
              "  </button>\n",
              "\n",
              "<style>\n",
              "  .colab-df-quickchart {\n",
              "      --bg-color: #E8F0FE;\n",
              "      --fill-color: #1967D2;\n",
              "      --hover-bg-color: #E2EBFA;\n",
              "      --hover-fill-color: #174EA6;\n",
              "      --disabled-fill-color: #AAA;\n",
              "      --disabled-bg-color: #DDD;\n",
              "  }\n",
              "\n",
              "  [theme=dark] .colab-df-quickchart {\n",
              "      --bg-color: #3B4455;\n",
              "      --fill-color: #D2E3FC;\n",
              "      --hover-bg-color: #434B5C;\n",
              "      --hover-fill-color: #FFFFFF;\n",
              "      --disabled-bg-color: #3B4455;\n",
              "      --disabled-fill-color: #666;\n",
              "  }\n",
              "\n",
              "  .colab-df-quickchart {\n",
              "    background-color: var(--bg-color);\n",
              "    border: none;\n",
              "    border-radius: 50%;\n",
              "    cursor: pointer;\n",
              "    display: none;\n",
              "    fill: var(--fill-color);\n",
              "    height: 32px;\n",
              "    padding: 0;\n",
              "    width: 32px;\n",
              "  }\n",
              "\n",
              "  .colab-df-quickchart:hover {\n",
              "    background-color: var(--hover-bg-color);\n",
              "    box-shadow: 0 1px 2px rgba(60, 64, 67, 0.3), 0 1px 3px 1px rgba(60, 64, 67, 0.15);\n",
              "    fill: var(--button-hover-fill-color);\n",
              "  }\n",
              "\n",
              "  .colab-df-quickchart-complete:disabled,\n",
              "  .colab-df-quickchart-complete:disabled:hover {\n",
              "    background-color: var(--disabled-bg-color);\n",
              "    fill: var(--disabled-fill-color);\n",
              "    box-shadow: none;\n",
              "  }\n",
              "\n",
              "  .colab-df-spinner {\n",
              "    border: 2px solid var(--fill-color);\n",
              "    border-color: transparent;\n",
              "    border-bottom-color: var(--fill-color);\n",
              "    animation:\n",
              "      spin 1s steps(1) infinite;\n",
              "  }\n",
              "\n",
              "  @keyframes spin {\n",
              "    0% {\n",
              "      border-color: transparent;\n",
              "      border-bottom-color: var(--fill-color);\n",
              "      border-left-color: var(--fill-color);\n",
              "    }\n",
              "    20% {\n",
              "      border-color: transparent;\n",
              "      border-left-color: var(--fill-color);\n",
              "      border-top-color: var(--fill-color);\n",
              "    }\n",
              "    30% {\n",
              "      border-color: transparent;\n",
              "      border-left-color: var(--fill-color);\n",
              "      border-top-color: var(--fill-color);\n",
              "      border-right-color: var(--fill-color);\n",
              "    }\n",
              "    40% {\n",
              "      border-color: transparent;\n",
              "      border-right-color: var(--fill-color);\n",
              "      border-top-color: var(--fill-color);\n",
              "    }\n",
              "    60% {\n",
              "      border-color: transparent;\n",
              "      border-right-color: var(--fill-color);\n",
              "    }\n",
              "    80% {\n",
              "      border-color: transparent;\n",
              "      border-right-color: var(--fill-color);\n",
              "      border-bottom-color: var(--fill-color);\n",
              "    }\n",
              "    90% {\n",
              "      border-color: transparent;\n",
              "      border-bottom-color: var(--fill-color);\n",
              "    }\n",
              "  }\n",
              "</style>\n",
              "\n",
              "  <script>\n",
              "    async function quickchart(key) {\n",
              "      const quickchartButtonEl =\n",
              "        document.querySelector('#' + key + ' button');\n",
              "      quickchartButtonEl.disabled = true;  // To prevent multiple clicks.\n",
              "      quickchartButtonEl.classList.add('colab-df-spinner');\n",
              "      try {\n",
              "        const charts = await google.colab.kernel.invokeFunction(\n",
              "            'suggestCharts', [key], {});\n",
              "      } catch (error) {\n",
              "        console.error('Error during call to suggestCharts:', error);\n",
              "      }\n",
              "      quickchartButtonEl.classList.remove('colab-df-spinner');\n",
              "      quickchartButtonEl.classList.add('colab-df-quickchart-complete');\n",
              "    }\n",
              "    (() => {\n",
              "      let quickchartButtonEl =\n",
              "        document.querySelector('#df-13f53e3c-1e53-4c46-9cd5-f91e797abb2e button');\n",
              "      quickchartButtonEl.style.display =\n",
              "        google.colab.kernel.accessAllowed ? 'block' : 'none';\n",
              "    })();\n",
              "  </script>\n",
              "</div>\n",
              "\n",
              "  <div id=\"id_874b17c4-4505-437d-a0b0-7668f483d116\">\n",
              "    <style>\n",
              "      .colab-df-generate {\n",
              "        background-color: #E8F0FE;\n",
              "        border: none;\n",
              "        border-radius: 50%;\n",
              "        cursor: pointer;\n",
              "        display: none;\n",
              "        fill: #1967D2;\n",
              "        height: 32px;\n",
              "        padding: 0 0 0 0;\n",
              "        width: 32px;\n",
              "      }\n",
              "\n",
              "      .colab-df-generate:hover {\n",
              "        background-color: #E2EBFA;\n",
              "        box-shadow: 0px 1px 2px rgba(60, 64, 67, 0.3), 0px 1px 3px 1px rgba(60, 64, 67, 0.15);\n",
              "        fill: #174EA6;\n",
              "      }\n",
              "\n",
              "      [theme=dark] .colab-df-generate {\n",
              "        background-color: #3B4455;\n",
              "        fill: #D2E3FC;\n",
              "      }\n",
              "\n",
              "      [theme=dark] .colab-df-generate:hover {\n",
              "        background-color: #434B5C;\n",
              "        box-shadow: 0px 1px 3px 1px rgba(0, 0, 0, 0.15);\n",
              "        filter: drop-shadow(0px 1px 2px rgba(0, 0, 0, 0.3));\n",
              "        fill: #FFFFFF;\n",
              "      }\n",
              "    </style>\n",
              "    <button class=\"colab-df-generate\" onclick=\"generateWithVariable('df')\"\n",
              "            title=\"Generate code using this dataframe.\"\n",
              "            style=\"display:none;\">\n",
              "\n",
              "  <svg xmlns=\"http://www.w3.org/2000/svg\" height=\"24px\"viewBox=\"0 0 24 24\"\n",
              "       width=\"24px\">\n",
              "    <path d=\"M7,19H8.4L18.45,9,17,7.55,7,17.6ZM5,21V16.75L18.45,3.32a2,2,0,0,1,2.83,0l1.4,1.43a1.91,1.91,0,0,1,.58,1.4,1.91,1.91,0,0,1-.58,1.4L9.25,21ZM18.45,9,17,7.55Zm-12,3A5.31,5.31,0,0,0,4.9,8.1,5.31,5.31,0,0,0,1,6.5,5.31,5.31,0,0,0,4.9,4.9,5.31,5.31,0,0,0,6.5,1,5.31,5.31,0,0,0,8.1,4.9,5.31,5.31,0,0,0,12,6.5,5.46,5.46,0,0,0,6.5,12Z\"/>\n",
              "  </svg>\n",
              "    </button>\n",
              "    <script>\n",
              "      (() => {\n",
              "      const buttonEl =\n",
              "        document.querySelector('#id_874b17c4-4505-437d-a0b0-7668f483d116 button.colab-df-generate');\n",
              "      buttonEl.style.display =\n",
              "        google.colab.kernel.accessAllowed ? 'block' : 'none';\n",
              "\n",
              "      buttonEl.onclick = () => {\n",
              "        google.colab.notebook.generateWithVariable('df');\n",
              "      }\n",
              "      })();\n",
              "    </script>\n",
              "  </div>\n",
              "\n",
              "    </div>\n",
              "  </div>\n"
            ],
            "application/vnd.google.colaboratory.intrinsic+json": {
              "type": "dataframe",
              "variable_name": "df",
              "summary": "{\n  \"name\": \"df\",\n  \"rows\": 3,\n  \"fields\": [\n    {\n      \"column\": \"Name\",\n      \"properties\": {\n        \"dtype\": \"string\",\n        \"num_unique_values\": 3,\n        \"samples\": [\n          \"Alice\",\n          \"Bob\",\n          \"Charlie\"\n        ],\n        \"semantic_type\": \"\",\n        \"description\": \"\"\n      }\n    },\n    {\n      \"column\": \"Rank\",\n      \"properties\": {\n        \"dtype\": \"number\",\n        \"std\": 1,\n        \"min\": 1,\n        \"max\": 3,\n        \"num_unique_values\": 3,\n        \"samples\": [\n          1,\n          2,\n          3\n        ],\n        \"semantic_type\": \"\",\n        \"description\": \"\"\n      }\n    },\n    {\n      \"column\": \"Temperature\",\n      \"properties\": {\n        \"dtype\": \"number\",\n        \"std\": 0.6027713773341649,\n        \"min\": 97.9,\n        \"max\": 99.1,\n        \"num_unique_values\": 3,\n        \"samples\": [\n          98.6,\n          99.1,\n          97.9\n        ],\n        \"semantic_type\": \"\",\n        \"description\": \"\"\n      }\n    },\n    {\n      \"column\": \"Salary\",\n      \"properties\": {\n        \"dtype\": \"number\",\n        \"std\": 10000,\n        \"min\": 50000,\n        \"max\": 70000,\n        \"num_unique_values\": 3,\n        \"samples\": [\n          50000,\n          60000,\n          70000\n        ],\n        \"semantic_type\": \"\",\n        \"description\": \"\"\n      }\n    }\n  ]\n}"
            }
          },
          "metadata": {},
          "execution_count": 6
        }
      ],
      "source": [
        "\n",
        "# Example code to illustrate types of data\n",
        "import pandas as pd\n",
        "\n",
        "# Creating a dataset with different types of data\n",
        "data = {\n",
        "    \"Name\": [\"Alice\", \"Bob\", \"Charlie\"],  # Nominal (qualitative)\n",
        "    \"Rank\": [1, 2, 3],  # Ordinal (qualitative)\n",
        "    \"Temperature\": [98.6, 99.1, 97.9],  # Interval (quantitative)\n",
        "    \"Salary\": [50000, 60000, 70000]  # Ratio (quantitative)\n",
        "}\n",
        "df = pd.DataFrame(data)\n",
        "df\n"
      ],
      "id": "e689fe84"
    },
    {
      "cell_type": "markdown",
      "metadata": {
        "id": "f9c9b385"
      },
      "source": [
        "## 2. What are the measures of central tendency, and when should you use each? Discuss the mean, median, and mode with examples and situations where each is appropriate."
      ],
      "id": "f9c9b385"
    },
    {
      "cell_type": "code",
      "execution_count": 8,
      "metadata": {
        "id": "abd708d4",
        "colab": {
          "base_uri": "https://localhost:8080/"
        },
        "outputId": "4aa9cb1d-6345-49a1-d685-acd7220ed561"
      },
      "outputs": [
        {
          "output_type": "execute_result",
          "data": {
            "text/plain": [
              "(15.0, 12.5, ModeResult(mode=10, count=3))"
            ]
          },
          "metadata": {},
          "execution_count": 8
        }
      ],
      "source": [
        "\n",
        "import numpy as np\n",
        "from scipy import stats\n",
        "\n",
        "# Example dataset\n",
        "data = [10, 15, 10, 20, 25, 10]\n",
        "\n",
        "# Calculating mean, median, and mode\n",
        "mean = np.mean(data)\n",
        "median = np.median(data)\n",
        "mode = stats.mode(data)\n",
        "\n",
        "mean, median, mode\n"
      ],
      "id": "abd708d4"
    },
    {
      "cell_type": "markdown",
      "metadata": {
        "id": "20b3e3ae"
      },
      "source": [
        "## 3. Explain the concept of dispersion. How do variance and standard deviation measure the spread of data?"
      ],
      "id": "20b3e3ae"
    },
    {
      "cell_type": "code",
      "execution_count": 4,
      "metadata": {
        "id": "38ca8fb3",
        "colab": {
          "base_uri": "https://localhost:8080/"
        },
        "outputId": "2f204223-cdd1-4ed0-c7ac-789fd74a8bed"
      },
      "outputs": [
        {
          "output_type": "execute_result",
          "data": {
            "text/plain": [
              "(24.0, 4.898979485566356)"
            ]
          },
          "metadata": {},
          "execution_count": 4
        }
      ],
      "source": [
        "\n",
        "# Example dataset\n",
        "data = [10, 12, 23, 23, 16, 23, 21, 16]\n",
        "\n",
        "# Variance and Standard Deviation\n",
        "variance = np.var(data)\n",
        "std_dev = np.std(data)\n",
        "\n",
        "variance, std_dev\n"
      ],
      "id": "38ca8fb3"
    },
    {
      "cell_type": "markdown",
      "metadata": {
        "id": "54ca4536"
      },
      "source": [
        "## 4. What is a box plot, and what can it tell you about the distribution of data?"
      ],
      "id": "54ca4536"
    },
    {
      "cell_type": "code",
      "execution_count": 3,
      "metadata": {
        "id": "a29082e5",
        "colab": {
          "base_uri": "https://localhost:8080/",
          "height": 452
        },
        "outputId": "61cfb48c-19f3-45e6-f8f1-c60b6458224c"
      },
      "outputs": [
        {
          "output_type": "display_data",
          "data": {
            "text/plain": [
              "<Figure size 640x480 with 1 Axes>"
            ],
            "image/png": "[encoded data removed]"
          },
          "metadata": {}
        }
      ],
      "source": [
        "\n",
        "import matplotlib.pyplot as plt\n",
        "\n",
        "# Example dataset\n",
        "data = [7, 8, 9, 10, 15, 21, 22, 23, 29, 33]\n",
        "\n",
        "# Box plot\n",
        "plt.boxplot(data)\n",
        "plt.title(\"Box Plot Example\")\n",
        "plt.show()\n"
      ],
      "id": "a29082e5"
    },
    {
      "cell_type": "markdown",
      "metadata": {
        "id": "f2243030"
      },
      "source": [
        "## 5. Discuss the role of random sampling in making inferences about populations."
      ],
      "id": "f2243030"
    },
    {
      "cell_type": "markdown",
      "metadata": {
        "id": "d8b71ff9"
      },
      "source": [
        "\n",
        "Random sampling ensures that every individual in the population has an equal chance of being selected.\n",
        "This minimizes bias and makes the sample representative, allowing valid generalizations about the population.\n"
      ],
      "id": "d8b71ff9"
    },
    {
      "cell_type": "markdown",
      "metadata": {
        "id": "eeb4a714"
      },
      "source": [
        "## 6. Explain the concept of skewness and its types. How does skewness affect the interpretation of data?"
      ],
      "id": "eeb4a714"
    },
    {
      "cell_type": "code",
      "execution_count": 2,
      "metadata": {
        "id": "a3913c8b",
        "colab": {
          "base_uri": "https://localhost:8080/"
        },
        "outputId": "e908abb2-9763-41d9-8157-8fcc030ef73d"
      },
      "outputs": [
        {
          "output_type": "execute_result",
          "data": {
            "text/plain": [
              "1.7962008374788356"
            ]
          },
          "metadata": {},
          "execution_count": 2
        }
      ],
      "source": [
        "\n",
        "# Example of skewness\n",
        "from scipy.stats import skew\n",
        "\n",
        "data = [1, 2, 2, 3, 3, 3, 4, 10]\n",
        "data_skewness = skew(data)\n",
        "\n",
        "data_skewness\n"
      ],
      "id": "a3913c8b"
    },
    {
      "cell_type": "markdown",
      "metadata": {
        "id": "da525f7a"
      },
      "source": [
        "## 7. What is the interquartile range (IQR), and how is it used to detect outliers?"
      ],
      "id": "da525f7a"
    },
    {
      "cell_type": "code",
      "execution_count": 9,
      "metadata": {
        "id": "4345ff91",
        "colab": {
          "base_uri": "https://localhost:8080/"
        },
        "outputId": "eca8787c-8b89-4392-912c-4603702e5813"
      },
      "outputs": [
        {
          "output_type": "execute_result",
          "data": {
            "text/plain": [
              "(4.0, -3.0, 13.0)"
            ]
          },
          "metadata": {},
          "execution_count": 9
        }
      ],
      "source": [
        "\n",
        "# Example dataset\n",
        "data = [1, 2, 3, 4, 5, 6, 7, 8, 50]\n",
        "\n",
        "# IQR calculation\n",
        "q1 = np.percentile(data, 25)\n",
        "q3 = np.percentile(data, 75)\n",
        "iqr = q3 - q1\n",
        "\n",
        "lower_bound = q1 - 1.5 * iqr\n",
        "upper_bound = q3 + 1.5 * iqr\n",
        "\n",
        "iqr, lower_bound, upper_bound\n"
      ],
      "id": "4345ff91"
    },
    {
      "cell_type": "markdown",
      "id": "91c48792",
      "metadata": {
        "id": "91c48792"
      },
      "source": [
        "## 8. Discuss the conditions under which the binomial distribution is used."
      ]
    },
    {
      "cell_type": "markdown",
      "id": "2a2479d7",
      "metadata": {
        "id": "2a2479d7"
      },
      "source": [
        "\n",
        "The binomial distribution is used when:\n",
        "1. There are a fixed number of trials (n).\n",
        "2. Each trial has only two possible outcomes: success or failure.\n",
        "3. The probability of success (p) is constant for all trials.\n",
        "4. The trials are independent of each other.\n",
        "\n",
        "Example: Flipping a coin 10 times and counting the number of heads.\n"
      ]
    },
    {
      "cell_type": "markdown",
      "id": "fa24f4ff",
      "metadata": {
        "id": "fa24f4ff"
      },
      "source": [
        "## 9. Explain the properties of the normal distribution and the empirical rule (68-95-99.7 rule)."
      ]
    },
    {
      "cell_type": "markdown",
      "id": "538c608e",
      "metadata": {
        "id": "538c608e"
      },
      "source": [
        "\n",
        "### Properties of the Normal Distribution:\n",
        "1. Symmetrical about the mean.\n",
        "2. The mean, median, and mode are equal and located at the center.\n",
        "3. Bell-shaped curve.\n",
        "4. Defined by two parameters: mean (µ) and standard deviation (σ).\n",
        "5. Total area under the curve is 1.\n",
        "\n",
        "### Empirical Rule (68-95-99.7 rule):\n",
        "1. 68% of data lies within 1 standard deviation of the mean.\n",
        "2. 95% of data lies within 2 standard deviations of the mean.\n",
        "3. 99.7% of data lies within 3 standard deviations of the mean.\n"
      ]
    },
    {
      "cell_type": "markdown",
      "id": "183f19a4",
      "metadata": {
        "id": "183f19a4"
      },
      "source": [
        "## 10. Provide a real-life example of a Poisson process and calculate the probability for a specific event."
      ]
    },
    {
      "cell_type": "code",
      "execution_count": 10,
      "id": "6d87efc4",
      "metadata": {
        "id": "6d87efc4",
        "colab": {
          "base_uri": "https://localhost:8080/"
        },
        "outputId": "c1c3ca0f-95ba-4195-fcf1-8152d2a805b7"
      },
      "outputs": [
        {
          "output_type": "execute_result",
          "data": {
            "text/plain": [
              "0.1403738958142805"
            ]
          },
          "metadata": {},
          "execution_count": 10
        }
      ],
      "source": [
        "\n",
        "# Example: Number of emails received per hour\n",
        "from scipy.stats import poisson\n",
        "\n",
        "# Assume the average number of emails per hour is 5\n",
        "lambda_emails = 5\n",
        "\n",
        "# Probability of receiving exactly 3 emails in an hour\n",
        "probability = poisson.pmf(3, lambda_emails)\n",
        "probability\n"
      ]
    },
    {
      "cell_type": "markdown",
      "id": "d816cd06",
      "metadata": {
        "id": "d816cd06"
      },
      "source": [
        "## 11. Explain what a random variable is and differentiate between discrete and continuous random variables."
      ]
    },
    {
      "cell_type": "markdown",
      "id": "2c921b9c",
      "metadata": {
        "id": "2c921b9c"
      },
      "source": [
        "\n",
        "### Random Variable:\n",
        "A random variable is a variable whose value is determined by the outcome of a random experiment.\n",
        "\n",
        "### Types:\n",
        "1. **Discrete Random Variable**: Takes on countable values (e.g., number of heads in coin tosses).\n",
        "2. **Continuous Random Variable**: Takes on infinite values within a range (e.g., weight, height).\n"
      ]
    },
    {
      "cell_type": "markdown",
      "id": "20aa05f4",
      "metadata": {
        "id": "20aa05f4"
      },
      "source": [
        "## 12. Provide an example dataset, calculate both covariance and correlation, and interpret the results."
      ]
    },
    {
      "cell_type": "code",
      "execution_count": 1,
      "id": "14656a5c",
      "metadata": {
        "id": "14656a5c",
        "colab": {
          "base_uri": "https://localhost:8080/"
        },
        "outputId": "0623a524-1041-4ea3-e8c5-98d3d2b521d8"
      },
      "outputs": [
        {
          "output_type": "execute_result",
          "data": {
            "text/plain": [
              "(5.0, 0.9999999999999999)"
            ]
          },
          "metadata": {},
          "execution_count": 1
        }
      ],
      "source": [
        "\n",
        "import numpy as np\n",
        "\n",
        "# Example dataset\n",
        "x = [1, 2, 3, 4, 5]\n",
        "y = [2, 4, 6, 8, 10]\n",
        "\n",
        "# Covariance\n",
        "covariance = np.cov(x, y)[0, 1]\n",
        "\n",
        "# Correlation\n",
        "correlation = np.corrcoef(x, y)[0, 1]\n",
        "\n",
        "covariance, correlation\n"
      ]
    },
    {
      "cell_type": "code",
      "source": [],
      "metadata": {
        "id": "83l5A7LRYleH"
      },
      "id": "83l5A7LRYleH",
      "execution_count": null,
      "outputs": []
    }
  ],
  "metadata": {
    "colab": {
      "provenance": []
    },
    "language_info": {
      "name": "python"
    },
    "kernelspec": {
      "name": "python3",
      "display_name": "Python 3"
    }
  },
  "nbformat": 4,
  "nbformat_minor": 5
}